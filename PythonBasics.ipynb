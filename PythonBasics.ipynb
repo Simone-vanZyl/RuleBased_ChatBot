{
  "nbformat": 4,
  "nbformat_minor": 0,
  "metadata": {
    "colab": {
      "name": "PythonBasics.ipynb",
      "version": "0.3.2",
      "provenance": [],
      "collapsed_sections": [],
      "include_colab_link": true
    },
    "kernelspec": {
      "name": "python3",
      "display_name": "Python 3"
    }
  },
  "cells": [
    {
      "cell_type": "markdown",
      "metadata": {
        "id": "view-in-github",
        "colab_type": "text"
      },
      "source": [
        "<a href=\"https://colab.research.google.com/github/Simone-vanZyl/RuleBased_ChatBot/blob/master/PythonBasics.ipynb\" target=\"_parent\"><img src=\"https://colab.research.google.com/assets/colab-badge.svg\" alt=\"Open In Colab\"/></a>"
      ]
    },
    {
      "metadata": {
        "id": "UQTVkqUWJk31",
        "colab_type": "code",
        "outputId": "aa93c403-abdc-4c6c-89e6-6e0abf0524f7",
        "colab": {
          "base_uri": "https://localhost:8080/",
          "height": 34
        }
      },
      "cell_type": "code",
      "source": [
        "# Hello World Program\n",
        "# Print statements\n",
        "\n",
        "print(\"Hello World\")"
      ],
      "execution_count": 0,
      "outputs": [
        {
          "output_type": "stream",
          "text": [
            "Hello World\n"
          ],
          "name": "stdout"
        }
      ]
    },
    {
      "metadata": {
        "id": "u3IsYz8gJwOA",
        "colab_type": "code",
        "outputId": "897da597-d9e4-4bdc-cfe4-3408df668116",
        "colab": {
          "base_uri": "https://localhost:8080/",
          "height": 52
        }
      },
      "cell_type": "code",
      "source": [
        "# Input\n",
        "\n",
        "myname = input(\"Please enter your name: \")\n",
        "\n",
        "print(\"My name is: \" + myname)"
      ],
      "execution_count": 0,
      "outputs": [
        {
          "output_type": "stream",
          "text": [
            "Please enter your name: Sim\n",
            "My name is: Sim\n"
          ],
          "name": "stdout"
        }
      ]
    },
    {
      "metadata": {
        "id": "UA7Qqeo-KR4T",
        "colab_type": "code",
        "outputId": "f26b5910-1551-4ce8-85ae-cca88184b6e0",
        "colab": {
          "base_uri": "https://localhost:8080/",
          "height": 52
        }
      },
      "cell_type": "code",
      "source": [
        "#Data Types\n",
        "\n",
        "one = 1\n",
        "two = 2.00 # You can have decimals\n",
        "\n",
        "print(one)\n",
        "print(two)\n",
        "\n",
        "# Sums\n",
        "print(one + two)\n",
        "print(one - two)\n",
        "\n",
        "# multiplication and division\n",
        "\n",
        "print(one*two)\n",
        "print(one/two)"
      ],
      "execution_count": 0,
      "outputs": [
        {
          "output_type": "stream",
          "text": [
            "1\n",
            "2.0\n"
          ],
          "name": "stdout"
        }
      ]
    },
    {
      "metadata": {
        "id": "e9cRxqmoK53o",
        "colab_type": "code",
        "outputId": "ed4107da-e2bf-434e-bd2d-37927be5475f",
        "colab": {
          "base_uri": "https://localhost:8080/",
          "height": 52
        }
      },
      "cell_type": "code",
      "source": [
        "#If Statements\n",
        "\n",
        "number = int(input(\"Enter a number: \"))\n",
        "\n",
        "if number > 0:\n",
        "  print(\"This is a positive number!\")\n",
        "elif number < 0:\n",
        "  print(\"This is a negative number!\")\n",
        "else:\n",
        "  print(\"This number is Zero!\")"
      ],
      "execution_count": 0,
      "outputs": [
        {
          "output_type": "stream",
          "text": [
            "Enter a number: 0\n",
            "This number is Zero!\n"
          ],
          "name": "stdout"
        }
      ]
    },
    {
      "metadata": {
        "id": "X2vBTWpLLbxN",
        "colab_type": "code",
        "outputId": "207fedbf-a121-4e6d-f973-35724f87e9d9",
        "colab": {
          "base_uri": "https://localhost:8080/",
          "height": 121
        }
      },
      "cell_type": "code",
      "source": [
        "# for loops\n",
        "\n",
        "for i in range(3):\n",
        "  number = int(input(\"Enter a number: \"))\n",
        "  if number > 0:\n",
        "    print(\"This is a positive number!\")\n",
        "  elif number < 0:\n",
        "    print(\"This is a negative number!\")\n",
        "  else:\n",
        "    print(\"This number is Zero!\")"
      ],
      "execution_count": 0,
      "outputs": [
        {
          "output_type": "stream",
          "text": [
            "Enter a number: 0\n",
            "This number is Zero!\n",
            "Enter a number: -5\n",
            "This is a negative number!\n",
            "Enter a number: 5\n",
            "This is a positive number!\n"
          ],
          "name": "stdout"
        }
      ]
    },
    {
      "metadata": {
        "id": "x7adaJ-eOP9O",
        "colab_type": "code",
        "outputId": "c9159f82-f970-4429-d9ba-7d9aa615e04e",
        "colab": {
          "base_uri": "https://localhost:8080/",
          "height": 52
        }
      },
      "cell_type": "code",
      "source": [
        "# == and !\n",
        "\n",
        "number = int(input(\"Enter a number: \"))\n",
        "\n",
        "if (number == 10):\n",
        "  print(\"The number 10!\")\n",
        "elif (number != 10):\n",
        "  print(\"This number is not 10\")"
      ],
      "execution_count": 0,
      "outputs": [
        {
          "output_type": "stream",
          "text": [
            "Enter a number: 10\n",
            "The number 10!\n"
          ],
          "name": "stdout"
        }
      ]
    },
    {
      "metadata": {
        "id": "bviEWtn4MgLr",
        "colab_type": "code",
        "outputId": "02018bd9-25e0-4b80-d979-fdbf9bf0263e",
        "colab": {
          "base_uri": "https://localhost:8080/",
          "height": 191
        }
      },
      "cell_type": "code",
      "source": [
        "# Boolean Arithmetic\n",
        "\n",
        "\n",
        "# AND table\n",
        "print(\"====The AND table====\")\n",
        "print(True and True)\n",
        "print(True and False)\n",
        "print(False and True)\n",
        "print(False and False)\n",
        "\n",
        "# OR table\n",
        "print(\"====The OR table====\")\n",
        "print(True or True)\n",
        "print(True or False)\n",
        "print(False or True)\n",
        "print(False or False)\n"
      ],
      "execution_count": 0,
      "outputs": [
        {
          "output_type": "stream",
          "text": [
            "====The AND table====\n",
            "True\n",
            "False\n",
            "False\n",
            "False\n",
            "====The OR table====\n",
            "True\n",
            "True\n",
            "True\n",
            "False\n"
          ],
          "name": "stdout"
        }
      ]
    },
    {
      "metadata": {
        "id": "H_MFqrXjO4iQ",
        "colab_type": "code",
        "colab": {}
      },
      "cell_type": "code",
      "source": [
        "# Using AND\n",
        "\n",
        "number = int(input(\"Enter a number: \"))\n",
        "\n",
        "if (number > 0 and number < 10):\n",
        "  print(\"This number lies between 0 and 10\")\n",
        "elif (number <= 0 or number >= 10):\n",
        "  print(\"This number does not lie between 0 and 10\")"
      ],
      "execution_count": 0,
      "outputs": []
    },
    {
      "metadata": {
        "id": "4ErBaDX-U6KY",
        "colab_type": "code",
        "colab": {}
      },
      "cell_type": "code",
      "source": [
        "# Bubble chatbot continued\n",
        "\n",
        "# Excercise Part 1\n",
        "# Create an if statement that will determine if the number entered is\n",
        "# between 0 and 100. Print \"The number is bewteen  and 100 if it is\". \n",
        "# Print \"The number is not between 0 and 100\" if it is not.\n",
        "\n",
        "# your code here\n",
        "\n",
        "# Excercise Part 2\n",
        "# Place your answer to Part 1 in a for loop so that a user can enter \n",
        "# 5 numbers and determine if they lie between 0 and 100.\n",
        "\n",
        "# Excercise Part 3\n",
        "# Change your answer to Part 1 and 2 so that a user can enter 10 \n",
        "# numbers and calculate a mark out of 50.\n",
        "# To calculate a mark out of 50 remember that mark = (number/50) * 100\n",
        "# Print this mark"
      ],
      "execution_count": 0,
      "outputs": []
    },
    {
      "metadata": {
        "id": "VhHGTbqLZLZ-",
        "colab_type": "code",
        "outputId": "5cdcc057-9f77-4617-c085-f7c38fdbe3d2",
        "colab": {
          "base_uri": "https://localhost:8080/",
          "height": 382
        }
      },
      "cell_type": "code",
      "source": [
        "# Bubble chatbot continued\n",
        "\n",
        "# Part 1 answer:\n",
        "print(\"====Part 1====\")\n",
        "\n",
        "number = int(input(\"number: \"))\n",
        "if (number >=0 and number <= 100):\n",
        "  print(\"The number lies bewteen 0 and 100\")\n",
        "else:\n",
        "  print(\"The number does not lie between 0 and 100\")\n",
        "\n",
        "# Part 2 answer\n",
        "print(\"====Part 2====\")\n",
        "for i in range(5):\n",
        "  number = int(input(\"number: \"))\n",
        "  if (number >=0 and number <= 100):\n",
        "    print(\"The number lies bewteen 0 and 100\")\n",
        "  else:\n",
        "    print(\"The number does not lie between 0 and 100\")\n",
        "  \n",
        "# Part 3 answer\n",
        "print(\"====Part 3====\")\n",
        "for i in range(3):\n",
        "  number = int(input(\"number: \"))\n",
        "  print((number/50)*100)\n",
        "  "
      ],
      "execution_count": 0,
      "outputs": [
        {
          "output_type": "stream",
          "text": [
            "====Part 1====\n",
            "number: 6\n",
            "The number lies bewteen 0 and 100\n",
            "====Part 2====\n",
            "number: 5\n",
            "The number lies bewteen 0 and 100\n",
            "number: 0\n",
            "The number lies bewteen 0 and 100\n",
            "number: 10000\n",
            "The number does not lie between 0 and 100\n",
            "number: 654\n",
            "The number does not lie between 0 and 100\n",
            "number: 54\n",
            "The number lies bewteen 0 and 100\n",
            "====Part 3====\n",
            "number: 50\n",
            "100.0\n",
            "number: 60\n",
            "120.0\n",
            "number: 1\n",
            "2.0\n"
          ],
          "name": "stdout"
        }
      ]
    }
  ]
}